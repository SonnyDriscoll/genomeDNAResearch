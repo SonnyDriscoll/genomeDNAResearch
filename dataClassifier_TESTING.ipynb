{
 "cells": [
  {
   "cell_type": "code",
   "execution_count": null,
   "metadata": {
    "collapsed": false
   },
   "outputs": [],
   "source": [
    "import pandas as pd\n",
    "import numpy as np\n",
    "\n",
    "df_geneData = pd.read_excel('geneData_TEST.xlsx', header = 0)\n",
    "#skip_footer = 1000000\n",
    "df_geneData.info()\n",
    "\n",
    "df_geneDataSelect = df_geneData\n",
    "df_geneDataSelect\n",
    "\n"
   ]
  },
  {
   "cell_type": "code",
   "execution_count": 2,
   "metadata": {
    "collapsed": false
   },
   "outputs": [
    {
     "name": "stderr",
     "output_type": "stream",
     "text": [
      "/Users/SonnyDriscoll1/anaconda/lib/python3.5/site-packages/sklearn/cross_validation.py:44: DeprecationWarning: This module was deprecated in version 0.18 in favor of the model_selection module into which all the refactored classes and functions are moved. Also note that the interface of the new CV iterators are different from that of this module. This module will be removed in 0.20.\n",
      "  \"This module will be removed in 0.20.\", DeprecationWarning)\n"
     ]
    }
   ],
   "source": [
    "input_X = df_geneDataSelect[['Variable1','Variable2','Variable3','Variable4','Variable5','Variable6','Variable7','Variable8','Variable9']]\n",
    "output_y = df_geneDataSelect['Output']\n",
    "\n",
    "from sklearn.cross_validation import train_test_split\n",
    "\n",
    "X_train, X_test, y_train, y_test = train_test_split(input_X, output_y, test_size=0.25, random_state=33)\n",
    "\n",
    "\n"
   ]
  },
  {
   "cell_type": "code",
   "execution_count": 3,
   "metadata": {
    "collapsed": true
   },
   "outputs": [],
   "source": [
    "from sklearn import tree\n",
    "\n",
    "clf = tree.DecisionTreeClassifier(criterion = 'entropy', max_depth = 3, min_samples_leaf = 5)\n",
    "clf = clf.fit(X_train, y_train)\n",
    "\n"
   ]
  },
  {
   "cell_type": "code",
   "execution_count": 4,
   "metadata": {
    "collapsed": false
   },
   "outputs": [
    {
     "name": "stdout",
     "output_type": "stream",
     "text": [
      "Decision Tree Results:\n",
      "Accuracy:1.000 \n",
      "\n",
      "Classification report\n",
      "             precision    recall  f1-score   support\n",
      "\n",
      "          1       1.00      1.00      1.00        77\n",
      "          2       1.00      1.00      1.00        71\n",
      "          3       1.00      1.00      1.00        65\n",
      "          4       1.00      1.00      1.00        75\n",
      "\n",
      "avg / total       1.00      1.00      1.00       288\n",
      " \n",
      "\n",
      "Confusion matrix\n",
      "[[77  0  0  0]\n",
      " [ 0 71  0  0]\n",
      " [ 0  0 65  0]\n",
      " [ 0  0  0 75]] \n",
      "\n"
     ]
    }
   ],
   "source": [
    "from sklearn import metrics\n",
    "\n",
    "def measure_performance(X, y, clf, show_accuracy=True, show_classification_report=True, show_confusion_matrix=True):\n",
    "    y_pred = clf.predict(X)\n",
    "    if show_accuracy:\n",
    "        print(\"Accuracy:{0:.3f}\".format(metrics.accuracy_score(y, y_pred)),\"\\n\")\n",
    "\n",
    "    if show_classification_report:\n",
    "        print(\"Classification report\")\n",
    "        print(metrics.classification_report(y,y_pred),\"\\n\")\n",
    "\n",
    "    if show_confusion_matrix:\n",
    "        print(\"Confusion matrix\")\n",
    "        print(metrics.confusion_matrix(y,y_pred),\"\\n\")\n",
    "        \n",
    "\n",
    "\n",
    "print('Decision Tree Results:')\n",
    "measure_performance(X_test, y_test, clf) #Calls measure_performance method\n",
    "\n",
    "\n",
    "\n"
   ]
  },
  {
   "cell_type": "code",
   "execution_count": 5,
   "metadata": {
    "collapsed": false
   },
   "outputs": [
    {
     "name": "stdout",
     "output_type": "stream",
     "text": [
      "Random Forest Results:\n",
      "Accuracy:1.000 \n",
      "\n",
      "Classification report\n",
      "             precision    recall  f1-score   support\n",
      "\n",
      "          1       1.00      1.00      1.00        77\n",
      "          2       1.00      1.00      1.00        71\n",
      "          3       1.00      1.00      1.00        65\n",
      "          4       1.00      1.00      1.00        75\n",
      "\n",
      "avg / total       1.00      1.00      1.00       288\n",
      " \n",
      "\n",
      "Confusion matrix\n",
      "[[77  0  0  0]\n",
      " [ 0 71  0  0]\n",
      " [ 0  0 65  0]\n",
      " [ 0  0  0 75]] \n",
      "\n"
     ]
    }
   ],
   "source": [
    "from sklearn.ensemble import RandomForestClassifier\n",
    "\n",
    "clf1 = RandomForestClassifier(n_estimators=10, random_state=33)\n",
    "clf1 = clf1.fit(X_train, y_train)\n",
    "\n",
    "print('Random Forest Results:')\n",
    "measure_performance(X_test, y_test, clf1) \n",
    "\n"
   ]
  },
  {
   "cell_type": "code",
   "execution_count": 14,
   "metadata": {
    "collapsed": false
   },
   "outputs": [
    {
     "name": "stdout",
     "output_type": "stream",
     "text": [
      "Neural Network Results:\n",
      "Accuracy:1.000 \n",
      "\n",
      "Classification report\n",
      "             precision    recall  f1-score   support\n",
      "\n",
      "          1       1.00      1.00      1.00        77\n",
      "          2       1.00      1.00      1.00        71\n",
      "          3       1.00      1.00      1.00        65\n",
      "          4       1.00      1.00      1.00        75\n",
      "\n",
      "avg / total       1.00      1.00      1.00       288\n",
      " \n",
      "\n",
      "Confusion matrix\n",
      "[[77  0  0  0]\n",
      " [ 0 71  0  0]\n",
      " [ 0  0 65  0]\n",
      " [ 0  0  0 75]] \n",
      "\n"
     ]
    }
   ],
   "source": [
    "from sklearn.neural_network import MLPClassifier\n",
    "\n",
    "clf2 = MLPClassifier(solver='lbfgs', alpha=1e-5,\n",
    "                    hidden_layer_sizes=(15), random_state=1)\n",
    "clf2.fit(X_train, y_train)                         \n",
    "MLPClassifier(activation='relu', alpha=1e-05, batch_size='auto',\n",
    "       beta_1=0.9, beta_2=0.999, early_stopping=False,\n",
    "       epsilon=1e-08, hidden_layer_sizes=(5, 2), learning_rate='constant',\n",
    "       learning_rate_init=0.001, max_iter=200, momentum=0.9,\n",
    "       nesterovs_momentum=True, power_t=0.5, random_state=1, shuffle=True,\n",
    "       solver='lbfgs', tol=0.0001, validation_fraction=0.1, verbose=False,\n",
    "       warm_start=False)\n",
    "\n",
    "predictions = clf2.predict(X_test)\n",
    "\n",
    "\n",
    "#from sklearn.metrics import classification_report,confusion_matrix\n",
    "#print(confusion_matrix(y_test,predictions))\n",
    "#print(classification_report(y_test,predictions))\n",
    "\n",
    "print('Neural Network Results:')\n",
    "measure_performance(X_test, y_test, clf2) #show_classification_report=False, show_confusion_matrix=False)\n",
    "\n",
    "\n",
    "\n"
   ]
  },
  {
   "cell_type": "code",
   "execution_count": 7,
   "metadata": {
    "collapsed": false
   },
   "outputs": [
    {
     "name": "stdout",
     "output_type": "stream",
     "text": [
      "SVM Results:\n",
      "Accuracy:1.000 \n",
      "\n",
      "Classification report\n",
      "             precision    recall  f1-score   support\n",
      "\n",
      "          1       1.00      1.00      1.00        77\n",
      "          2       1.00      1.00      1.00        71\n",
      "          3       1.00      1.00      1.00        65\n",
      "          4       1.00      1.00      1.00        75\n",
      "\n",
      "avg / total       1.00      1.00      1.00       288\n",
      " \n",
      "\n",
      "Confusion matrix\n",
      "[[77  0  0  0]\n",
      " [ 0 71  0  0]\n",
      " [ 0  0 65  0]\n",
      " [ 0  0  0 75]] \n",
      "\n"
     ]
    }
   ],
   "source": [
    "from sklearn.svm import SVC\n",
    "\n",
    "svc_1 = SVC(kernel='linear', C=1)\n",
    "clf3 = svc_1.fit(X_train, y_train)\n",
    "\n",
    "print('SVM Results:')\n",
    "measure_performance(X_test, y_test, clf3)  "
   ]
  },
  {
   "cell_type": "code",
   "execution_count": null,
   "metadata": {
    "collapsed": true
   },
   "outputs": [],
   "source": []
  }
 ],
 "metadata": {
  "anaconda-cloud": {},
  "kernelspec": {
   "display_name": "Python [Root]",
   "language": "python",
   "name": "Python [Root]"
  },
  "language_info": {
   "codemirror_mode": {
    "name": "ipython",
    "version": 3
   },
   "file_extension": ".py",
   "mimetype": "text/x-python",
   "name": "python",
   "nbconvert_exporter": "python",
   "pygments_lexer": "ipython3",
   "version": "3.5.2"
  }
 },
 "nbformat": 4,
 "nbformat_minor": 0
}
