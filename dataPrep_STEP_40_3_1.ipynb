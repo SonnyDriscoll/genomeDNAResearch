{
 "cells": [
  {
   "cell_type": "code",
   "execution_count": 1,
   "metadata": {
    "collapsed": false
   },
   "outputs": [
    {
     "name": "stdout",
     "output_type": "stream",
     "text": [
      "Processing Done\n",
      "Excel Done\n"
     ]
    }
   ],
   "source": [
    "from pandas import DataFrame\n",
    "import re\n",
    "import math\n",
    "\n",
    "with open(\"genomeData.txt\") as f:\n",
    "    strValues = f.read()\n",
    "    strValues = re.sub('[\\s+]', '', strValues)\n",
    "    \n",
    "    strValues = strValues.replace('A', '1')\n",
    "    strValues = strValues.replace('C', '2')\n",
    "    strValues = strValues.replace('G', '3')\n",
    "    strValues = strValues.replace('T', '4')\n",
    "\n",
    "lengthOfChunk = 40\n",
    "numberOfChunk = 3\n",
    "lengthOfTarget = 1\n",
    "lengthOfSteps = (lengthOfChunk * numberOfChunk) + lengthOfTarget\n",
    "\n",
    "inputTable = []\n",
    "outputTable = []\n",
    "\n",
    "outputTarget = []\n",
    "col = []\n",
    "for chunkNumber in range(0,numberOfChunk):\n",
    "    col.append([])\n",
    "\n",
    "blockSize = numberOfChunk*lengthOfChunk + lengthOfTarget\n",
    "for startInputIndex in range(0, math.ceil((len(strValues) - blockSize + 1)/lengthOfSteps)):\n",
    "\n",
    "    for chunkNumber in range(0,numberOfChunk):\n",
    "        col[chunkNumber].append(strValues[startInputIndex*lengthOfSteps+chunkNumber*lengthOfChunk:startInputIndex*lengthOfSteps+chunkNumber*lengthOfChunk+lengthOfChunk])\n",
    "    outputTarget.append(strValues[startInputIndex*lengthOfSteps+numberOfChunk*lengthOfChunk:startInputIndex*lengthOfSteps+numberOfChunk*lengthOfChunk+lengthOfTarget])\n",
    "\n",
    "df = DataFrame()\n",
    "for chunkNumber in range(0,numberOfChunk):\n",
    "    df[\"Variable\" + str(chunkNumber + 1)] = col[chunkNumber]\n",
    "df[\"Output\"] = outputTarget\n",
    "print(\"Processing Done\")\n",
    "df.to_excel('stepDataPrep_40_3_1.xlsx', sheet_name='sheet1', index=False)\n",
    "print(\"Excel Done\")"
   ]
  },
  {
   "cell_type": "code",
   "execution_count": null,
   "metadata": {
    "collapsed": true
   },
   "outputs": [],
   "source": []
  }
 ],
 "metadata": {
  "anaconda-cloud": {},
  "kernelspec": {
   "display_name": "Python [Root]",
   "language": "python",
   "name": "Python [Root]"
  },
  "language_info": {
   "codemirror_mode": {
    "name": "ipython",
    "version": 3
   },
   "file_extension": ".py",
   "mimetype": "text/x-python",
   "name": "python",
   "nbconvert_exporter": "python",
   "pygments_lexer": "ipython3",
   "version": "3.5.2"
  }
 },
 "nbformat": 4,
 "nbformat_minor": 0
}
